{
 "cells": [
  {
   "cell_type": "markdown",
   "id": "1a35e711",
   "metadata": {},
   "source": [
    "# Python Classes: Medical Insurance Project"
   ]
  },
  {
   "cell_type": "markdown",
   "id": "f99e0aa0",
   "metadata": {},
   "source": [
    "Task: create a `class` that does the following:\n",
    "- Takes in patient parameters regarding their personal information\n",
    "- Contains methods that allow users to update their information\n",
    "- Gives patients insight into their potential medical fees.\n"
   ]
  },
  {
   "cell_type": "markdown",
   "id": "1fa7e1c0",
   "metadata": {},
   "source": [
    "## Building our Constructor"
   ]
  },
  {
   "cell_type": "markdown",
   "id": "a575e31d",
   "metadata": {},
   "source": [
    "Start by adding in some more patient parameters:\n",
    "   - `sex`: patient's biological identification, 0 for male and 1 for female\n",
    "   - `bmi`: patient BMI\n",
    "   - `num_of_children`: number of children patient has\n",
    "   - `smoker`: patient smoking status, 0 for a non-smoker and 1 for a smoker\n",
    "   \n",
    "   Add these into the `__init__` method so that we can use them as we create our class methods."
   ]
  },
  {
   "cell_type": "code",
   "execution_count": 1,
   "id": "271950a3",
   "metadata": {},
   "outputs": [],
   "source": [
    "class Patient:\n",
    "    def __init__(self, name, age, sex, bmi, num_of_children, smoker):\n",
    "        self.name = name\n",
    "        self.age = age\n",
    "        self.sex = sex\n",
    "        self.bmi = bmi\n",
    "        self.num_of_children = num_of_children\n",
    "        self.smoker = smoker\n"
   ]
  },
  {
   "cell_type": "markdown",
   "id": "3cfdd84f",
   "metadata": {},
   "source": [
    "Test our `__init__` method and create our first instance variable.\n"
   ]
  },
  {
   "cell_type": "code",
   "execution_count": 44,
   "id": "2d9efff6",
   "metadata": {},
   "outputs": [
    {
     "name": "stdout",
     "output_type": "stream",
     "text": [
      "John Doe\n",
      "25\n"
     ]
    }
   ],
   "source": [
    "patient1 = Patient(\"John Doe\", 25, 1, 22.2, 0, 0)\n",
    "print(patient1.name)\n",
    "print(patient1.age)"
   ]
  },
  {
   "cell_type": "markdown",
   "id": "153c37a5",
   "metadata": {},
   "source": [
    "## Adding Functionality with Methods"
   ]
  },
  {
   "cell_type": "markdown",
   "id": "a2548fbe",
   "metadata": {},
   "source": [
    "Now that our constructor is working, let's add some methods for functionality. \n",
    "\n",
    "- Our first method will be `estimated_insurance_cost()`, which takes our instance's parameters (representing our patient's information) and returns their expected yearly medical fees. The formula is below:\n",
    "   \n",
    "   $$\n",
    "   estimated\\_cost = 250*age - 128*sex + 370*bmi + 425*num\\_of\\_children + 24000*smoker - 12500\n",
    "   $$\n",
    "\n",
    "- What if our patient recently had a birthday? Or had a fluctuation in weight? Or had a kid? Let's add some methods that allow us to update these parameters and recalculate the estimated medical fees.\n",
    "    - create an `update_age()` method.\n",
    "    - create an `update_bmi()` method.\n",
    "    - create an `update_num_children()` method.\n",
    "\n",
    "- Make it so we can have all the information in one place. Make a method called `patient_profile()` that builds a dictionary called `patient_information` to hold all of our patient's information."
   ]
  },
  {
   "cell_type": "code",
   "execution_count": 70,
   "id": "0592dd7b",
   "metadata": {},
   "outputs": [],
   "source": [
    "class Patient:\n",
    "    def __init__(self, name, age, sex, bmi, num_of_children, smoker):\n",
    "        self.name = name\n",
    "        self.age = age\n",
    "        self.sex = sex\n",
    "        self.bmi = bmi\n",
    "        self.num_of_children = num_of_children\n",
    "        self.smoker = smoker\n",
    "\n",
    "    def estimated_insurance_cost(self):\n",
    "        self.estimated_cost = 250 * self.age - 128*self.sex + 370*self.bmi + 425*self.num_of_children + 24000*self.smoker -12500\n",
    "        print(\"{}\\'s estimated insurance costs are {} dollars\".format(self.name, self.estimated_cost))\n",
    "        \n",
    "    def update_age(self, new_age):\n",
    "        self.age = new_age\n",
    "        print(\"{}\\'s age is now {}\".format(self.name, self.age))\n",
    "        self.estimated_insurance_cost()\n",
    "        \n",
    "    def update_bmi(self, new_bmi):\n",
    "        self.bmi = new_bmi\n",
    "        print(\"{}\\'s BMI is now {}\".format(self.name, self.bmi))\n",
    "        self.estimated_insurance_cost()    \n",
    "    \n",
    "    def update_num_children(self, new_num_children):\n",
    "        self.num_of_children = new_num_children\n",
    "        if self.num_of_children == 1:\n",
    "            print(\"{} has {} child\".format(self.name, self.num_of_children))\n",
    "        else:\n",
    "            print(\"{} has {} children\".format(self.name, self.num_of_children))\n",
    "        self.estimated_insurance_cost()\n",
    "        \n",
    "    def update_smoker(self, new_smoker):\n",
    "        self.smoker = new_smoker\n",
    "        if self.smoker == 1:\n",
    "            print(\"{} is now a smoker\".format(self.name))\n",
    "        else:\n",
    "            print(\"{} is now a non-smoker\".format(self.name))\n",
    "        self.estimated_insurance_cost() \n",
    "        \n",
    "    def patient_profile(self):\n",
    "        patient_information = {}\n",
    "        patient_information[\"Name\"] = self.name\n",
    "        patient_information[\"Age\"] = self.age\n",
    "        patient_information[\"Sex\"] = self.sex\n",
    "        patient_information[\"BMI\"] = self.bmi\n",
    "        patient_information[\"Number of Children\"] = self.num_of_children\n",
    "        patient_information[\"Smoking Status\"] = self.smoker\n",
    "        return patient_information\n",
    "        "
   ]
  },
  {
   "cell_type": "markdown",
   "id": "78f8abfa",
   "metadata": {},
   "source": [
    "### Testing out things"
   ]
  },
  {
   "cell_type": "code",
   "execution_count": 71,
   "id": "00fe10e9",
   "metadata": {
    "scrolled": true
   },
   "outputs": [
    {
     "name": "stdout",
     "output_type": "stream",
     "text": [
      "John Doe\n",
      "25\n",
      "John Doe's estimated insurance costs are 1836.0 dollars\n"
     ]
    }
   ],
   "source": [
    "patient1 = Patient(\"John Doe\", 25, 1, 22.2, 0, 0)\n",
    "print(patient1.name)\n",
    "print(patient1.age)\n",
    "\n",
    "patient1.estimated_insurance_cost()"
   ]
  },
  {
   "cell_type": "code",
   "execution_count": 72,
   "id": "c4e3366c",
   "metadata": {},
   "outputs": [
    {
     "name": "stdout",
     "output_type": "stream",
     "text": [
      "John Doe's age is now 26\n",
      "John Doe's estimated insurance costs are 2086.0 dollars\n",
      "John Doe's BMI is now 23\n",
      "John Doe's estimated insurance costs are 2382 dollars\n",
      "John Doe has 1 child\n",
      "John Doe's estimated insurance costs are 2807 dollars\n",
      "John Doe is now a smoker\n",
      "John Doe's estimated insurance costs are 26807 dollars\n",
      "{'Name': 'John Doe', 'Age': 26, 'Sex': 1, 'BMI': 23, 'Number of Children': 1, 'Smoking Status': 1}\n"
     ]
    }
   ],
   "source": [
    "patient1.update_age(26)\n",
    "patient1.update_bmi(23)\n",
    "patient1.update_num_children(1)\n",
    "patient1.update_smoker(1)\n",
    "\n",
    "print(patient1.patient_profile())\n"
   ]
  },
  {
   "cell_type": "markdown",
   "id": "56a9baf5",
   "metadata": {},
   "source": [
    "### Future Improvements"
   ]
  },
  {
   "cell_type": "markdown",
   "id": "5d6622e1",
   "metadata": {},
   "source": [
    "- Test that inputs are valid\n",
    "- Make it so multiple entries can be updated"
   ]
  },
  {
   "cell_type": "code",
   "execution_count": null,
   "id": "14307c39",
   "metadata": {},
   "outputs": [],
   "source": []
  }
 ],
 "metadata": {
  "kernelspec": {
   "display_name": "Python 3 (ipykernel)",
   "language": "python",
   "name": "python3"
  },
  "language_info": {
   "codemirror_mode": {
    "name": "ipython",
    "version": 3
   },
   "file_extension": ".py",
   "mimetype": "text/x-python",
   "name": "python",
   "nbconvert_exporter": "python",
   "pygments_lexer": "ipython3",
   "version": "3.9.12"
  }
 },
 "nbformat": 4,
 "nbformat_minor": 5
}
